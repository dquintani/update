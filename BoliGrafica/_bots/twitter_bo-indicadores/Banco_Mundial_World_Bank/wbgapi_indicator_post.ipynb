{
 "cells": [
  {
   "cell_type": "markdown",
   "metadata": {},
   "source": [
    "# Setup"
   ]
  },
  {
   "cell_type": "code",
   "execution_count": 10,
   "metadata": {},
   "outputs": [
    {
     "name": "stdout",
     "output_type": "stream",
     "text": [
      "día de la semana hora local UTC = 6\n",
      "hoy es 2022-08-21\n",
      "Hora actual en UTC = 16:43:41\n"
     ]
    }
   ],
   "source": [
    "import os\n",
    "import pandas as pd\n",
    "import tweepy\n",
    "import random \n",
    "import numpy as np\n",
    "import datetime\n",
    "from datetime import date\n",
    "import warnings\n",
    "import requests\n",
    "import wbgapi as wb\n",
    "import translators as ts\n",
    "import textwrap as twp\n",
    "\n",
    "\n",
    "from PIL import Image\n",
    "import requests\n",
    "from io import BytesIO\n",
    "\n",
    "# settings\n",
    "pd.set_option('display.max_colwidth', None)\n",
    "\n",
    "# time\n",
    "today = date.today()\n",
    "today_weekday = today.weekday()\n",
    "now = datetime.datetime.now()\n",
    "current_time = now.strftime(\"%H:%M:%S\")\n",
    "print(\"día de la semana hora local UTC =\", today_weekday)\n",
    "print(\"hoy es\", today)\n",
    "print(\"Hora actual en UTC =\", current_time)"
   ]
  },
  {
   "cell_type": "code",
   "execution_count": 11,
   "metadata": {},
   "outputs": [
    {
     "name": "stdout",
     "output_type": "stream",
     "text": [
      "envs loaded\n"
     ]
    }
   ],
   "source": [
    "# environmental secrets when working locally\n",
    "from dotenv import load_dotenv\n",
    "try:\n",
    "    load_dotenv()\n",
    "    load_dotenv(\"../../../\")\n",
    "    print(\"envs loaded\")\n",
    "except:\n",
    "    print(\"envs failed to load\")\n",
    "    pass"
   ]
  },
  {
   "cell_type": "code",
   "execution_count": 12,
   "metadata": {},
   "outputs": [
    {
     "data": {
      "text/plain": [
       "<tweepy.api.API at 0x7f9fce7358b0>"
      ]
     },
     "execution_count": 12,
     "metadata": {},
     "output_type": "execute_result"
    }
   ],
   "source": [
    "#USING GITHUB ENVS\n",
    "\n",
    "# test\n",
    "BG1_TWITTER_APIKEY= os.environ[\"BG1_TWITTER_APIKEY\"]\n",
    "BG1_TWITTER_APIKEYSECRET = os.environ[\"BG1_TWITTER_APIKEYSECRET\"]\n",
    "\n",
    "BG1_TWITTER_BEARERTOKEN = os.environ[\"BG1_TWITTER_BEARERTOKEN\"]\n",
    "BG1_TWITTER_ACCESSTOKEN = os.environ[\"BG1_TWITTER_ACCESSTOKEN\"]\n",
    "BG1_TWITTER_ACCESSTOKENSECRET = os.environ[\"BG1_TWITTER_ACCESSTOKENSECRET\"]\n",
    "\n",
    "# Authenticate to Twitter\n",
    "auth = tweepy.OAuthHandler(BG1_TWITTER_APIKEY, BG1_TWITTER_APIKEYSECRET)\n",
    "auth.set_access_token(BG1_TWITTER_ACCESSTOKEN, BG1_TWITTER_ACCESSTOKENSECRET)\n",
    "\n",
    "# Create API object \n",
    "api = tweepy.API(auth)\n",
    "api"
   ]
  },
  {
   "cell_type": "markdown",
   "metadata": {},
   "source": [
    "# Post random indicator figure"
   ]
  },
  {
   "cell_type": "code",
   "execution_count": 13,
   "metadata": {},
   "outputs": [
    {
     "name": "stdout",
     "output_type": "stream",
     "text": [
      "FM.AST.DOMS.CN\n",
      "\n",
      "Bolivia: Crédito nacional neto (LCU actual) \n",
      "\n",
      "Datos vía la API del Banco Mundial\n",
      "\n",
      "TWEET SUCCESFUL!! \n"
     ]
    }
   ],
   "source": [
    "def post_wb_fig():\n",
    "\n",
    "    # map list\n",
    "    fig_list = os.listdir(\"figures\")\n",
    "\n",
    "    # random map\n",
    "    chosen_fig = random.choice(fig_list)\n",
    "\n",
    "    # img path & upload media\n",
    "    img_path = f\"figures/{chosen_fig}\"\n",
    "\n",
    "    indicator = img_path[11:-4].replace(\"-\", \".\")\n",
    "    print(indicator)\n",
    "\n",
    "    # get indicator title\n",
    "    title = wb.series.info(id=indicator).table()[0][1]\n",
    "    title_plus = ts.google(title, from_language='en', to_language='es')\n",
    "    title_plus = \"Bolivia: \" + title_plus\n",
    "\n",
    "    # MESSAGE \n",
    "    MESSAGE = f\"\"\"\n",
    "{title_plus} \n",
    "\n",
    "Datos vía la API del Banco Mundial\n",
    "\"\"\"\n",
    "    print(MESSAGE)\n",
    "\n",
    "\n",
    "    # TWEET\n",
    "    media_id = api.media_upload(img_path).media_id\n",
    "    api.update_status(status = MESSAGE, media_ids = [media_id])\n",
    "    \n",
    "\n",
    "    print('TWEET SUCCESFUL!! ')\n",
    "    return\n",
    "\n",
    "\n",
    "post_wb_fig()"
   ]
  },
  {
   "cell_type": "code",
   "execution_count": null,
   "metadata": {},
   "outputs": [],
   "source": []
  }
 ],
 "metadata": {
  "kernelspec": {
   "display_name": "Python 3.9.12 ('base')",
   "language": "python",
   "name": "python3"
  },
  "language_info": {
   "codemirror_mode": {
    "name": "ipython",
    "version": 3
   },
   "file_extension": ".py",
   "mimetype": "text/x-python",
   "name": "python",
   "nbconvert_exporter": "python",
   "pygments_lexer": "ipython3",
   "version": "3.9.12"
  },
  "orig_nbformat": 4,
  "vscode": {
   "interpreter": {
    "hash": "3879f593f72178d4cdaa5d992027cc0eafe2075e6c7e6c2da0f0dd376bbd7072"
   }
  }
 },
 "nbformat": 4,
 "nbformat_minor": 2
}
