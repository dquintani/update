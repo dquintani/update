{
 "cells": [
  {
   "cell_type": "markdown",
   "metadata": {},
   "source": [
    "# Setup"
   ]
  },
  {
   "cell_type": "code",
   "execution_count": 3,
   "metadata": {},
   "outputs": [
    {
     "name": "stderr",
     "output_type": "stream",
     "text": [
      "Using state  server backend.\n"
     ]
    }
   ],
   "source": [
    "import wbgapi as wb\n",
    "import pandas as pd\n",
    "import matplotlib.pyplot as plt\n",
    "import seaborn\n",
    "import numpy as np\n",
    "import random\n",
    "import textwrap as twp\n",
    "from matplotlib import cm\n",
    "import matplotlib.colors\n",
    "import translators as ts\n",
    "import matplotlib.colors as colors\n",
    "\n",
    "\n",
    "from turtle import color\n",
    "plt.rcParams['font.family'] = 'Manjari'\n",
    "# plt.style.use(\"Solarize_Light2\")\n"
   ]
  },
  {
   "cell_type": "markdown",
   "metadata": {},
   "source": [
    "# WB Indicator Generator Random"
   ]
  },
  {
   "cell_type": "code",
   "execution_count": 4,
   "metadata": {},
   "outputs": [
    {
     "name": "stdout",
     "output_type": "stream",
     "text": [
      "db_id:  3\n",
      "indicator:  RL.PER.RNK.LOWER\n"
     ]
    },
    {
     "data": {
      "text/plain": [
       "'RL.PER.RNK.LOWER'"
      ]
     },
     "execution_count": 4,
     "metadata": {},
     "output_type": "execute_result"
    }
   ],
   "source": [
    "def indicator_generator(database_id):\n",
    "\n",
    "    # select database\n",
    "    print(\"db_id: \", database_id)\n",
    "    wb.db = database_id\n",
    "\n",
    "    indicator_list = [i[0] for i in wb.series.info().table()]\n",
    "    indicator = random.choice(indicator_list)\n",
    "    print(\"indicator: \", indicator)\n",
    "\n",
    "\n",
    "    #defualt back to WDI database\n",
    "    wb.db = 2\n",
    "\n",
    "    return indicator\n",
    "\n",
    "###\n",
    "indicator_generator(random.choice([1,2,3,5,6]))"
   ]
  },
  {
   "cell_type": "markdown",
   "metadata": {},
   "source": [
    "# Plot"
   ]
  },
  {
   "cell_type": "code",
   "execution_count": 5,
   "metadata": {},
   "outputs": [],
   "source": [
    "def truncate_colormap(cmap, minval=0.0, maxval=1.0, n=100):\n",
    "    new_cmap = colors.LinearSegmentedColormap.from_list(\n",
    "        'trunc({n},{a:.2f},{b:.2f})'.format(n=cmap.name, a=minval, b=maxval),\n",
    "        cmap(np.linspace(minval, maxval, n)))\n",
    "    return new_cmap"
   ]
  },
  {
   "cell_type": "code",
   "execution_count": 2,
   "metadata": {},
   "outputs": [],
   "source": [
    "def plot_indicator(indicator, economy):\n",
    "\n",
    "    try:\n",
    "        df = wb.data.DataFrame(indicator, economy, skipBlanks=True, numericTimeKeys=True)\n",
    "        df = df.T[economy]\n",
    "        df.index = pd.to_datetime(df.index, format = \"%Y\").year\n",
    "        df = df.dropna().round(1)\n",
    "    except:\n",
    "        print(\"ERROR! Initial DF did not load. Starting over...\\n\\n\")\n",
    "        plot_indicator(indicator_generator(2), economy)\n",
    "        raise ValueError('Initial DF did not load')\n",
    "    # entries\n",
    "    total_years = len(df)\n",
    "    print(\"total years\", total_years)\n",
    "\n",
    "    if total_years <=5:\n",
    "        print(\"ERROR! Too few years. Starting over...\\n\\n\")\n",
    "        plot_indicator(indicator_generator(2), economy)\n",
    "        return ValueError('Too few years.')\n",
    "\n",
    "\n",
    "    # FIG\n",
    "    fig, axs = plt.subplots(1,1, figsize=(14,7), dpi=200)\n",
    "    title = wb.series.info(id=indicator).table()[0][1]\n",
    "    title_plus = f\"\\n{ts.google(title, from_language='en', to_language='es')}\"\n",
    "    title_plus = \"Bolivia: \" + twp.fill(title_plus.replace('\\$\\$','\\\\$\\\\$'), 42)\n",
    "    fig.suptitle(title_plus, fontsize= 33, y=.963, va=\"bottom\", color=\"#2e2e2e\")\n",
    "    \n",
    "    #bar colors\n",
    "    CM = random.choice([cm.Greens, \n",
    "                        cm.Reds, \n",
    "                        cm.viridis_r, \n",
    "                        cm.magma_r,\n",
    "                        cm.inferno_r,\n",
    "                        cm.cool,\n",
    "                        cm.winter,\n",
    "                        cm.spring_r,\n",
    "                        ])\n",
    "    # display(CM)\n",
    "\n",
    "    CM = truncate_colormap(CM, 0.21, .9)\n",
    "    # display(CM)\n",
    "    colors = CM(df.values / float(max(df.values)))# + df.values / float(max(df.values))/2)\n",
    "\n",
    "    # plot bar\n",
    "    bar = axs.bar(df.index, df, color=colors, zorder=6)\n",
    "    if total_years <= 33:\n",
    "        axs.bar_label(bar)\n",
    "\n",
    "    # fig params\n",
    "    fig.set_facecolor(\"#f4efe7\")#f4efe7\n",
    "    axs.set_facecolor(\"#f5f5f5\")\n",
    "    axs.grid(lw=.5, ls=\":\", zorder=1)\n",
    "    axs.ticklabel_format(style='plain', useOffset=False)\n",
    "    \n",
    "    #series info\n",
    "    indicator_info = wb.series.metadata.get(indicator)\n",
    "    source = indicator_info.metadata[\"Source\"]\n",
    "    source = source.replace('\\$\\$','\\\\$\\\\$') + f\" Traducciones vía Google Translate API // wbgapi indicator: {indicator})\"\n",
    "    source = \"Fuente: \" + f\"{twp.fill(ts.google(source, from_language='en', to_language='es'),60)}\"\n",
    "    fig.text(.288, 0.06, source + \"\\n\\nVisualización de BoliGráfica\", ha=\"center\", va=\"top\", bbox={\"alpha\":.2, \"color\": colors[int(total_years/5)]}, fontsize=11)\n",
    "    try:\n",
    "        Longdefinition = indicator_info.metadata[\"Longdefinition\"]\n",
    "        Longdefinition = ts.google(Longdefinition, from_language='en', to_language='es')\n",
    "        Longdefinition = \"Descripción: \" + twp.fill(Longdefinition, 75)\n",
    "        Longdefinition = Longdefinition.replace('\\$\\$','\\\\$\\\\$')\n",
    "        fig.text(.683, 0.06, Longdefinition, ha=\"center\", va=\"top\", bbox={\"alpha\":.2, \"color\": colors[int(total_years/4)]})\n",
    "    except:\n",
    "        ValueError(\"Longdefinition was not found or smth else\")\n",
    "\n",
    "    # savefig\n",
    "    filename = indicator.replace(\".\", \"-\")\n",
    "    display(filename)\n",
    "    fig.savefig(f\"figures/bo_{filename}\", bbox_inches = \"tight\")\n",
    "    return fig, title_plus\n",
    "\n",
    "\n",
    "#### TEST\n",
    "\n",
    "# plot_indicator(indicator_generator(database_id = 2), economy=\"BOL\")\n",
    "# pass"
   ]
  },
  {
   "cell_type": "code",
   "execution_count": 1,
   "metadata": {},
   "outputs": [],
   "source": [
    "# for i in range(300):\n",
    "#     try:\n",
    "#         plot_indicator(indicator_generator(2), economy=\"BOL\")\n",
    "#     except:\n",
    "#         pass"
   ]
  },
  {
   "cell_type": "code",
   "execution_count": null,
   "metadata": {},
   "outputs": [],
   "source": []
  },
  {
   "cell_type": "code",
   "execution_count": null,
   "metadata": {},
   "outputs": [],
   "source": []
  }
 ],
 "metadata": {
  "kernelspec": {
   "display_name": "Python 3.9.12 ('base')",
   "language": "python",
   "name": "python3"
  },
  "language_info": {
   "codemirror_mode": {
    "name": "ipython",
    "version": 3
   },
   "file_extension": ".py",
   "mimetype": "text/x-python",
   "name": "python",
   "nbconvert_exporter": "python",
   "pygments_lexer": "ipython3",
   "version": "3.9.12"
  },
  "orig_nbformat": 4,
  "vscode": {
   "interpreter": {
    "hash": "3879f593f72178d4cdaa5d992027cc0eafe2075e6c7e6c2da0f0dd376bbd7072"
   }
  }
 },
 "nbformat": 4,
 "nbformat_minor": 2
}
