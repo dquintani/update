{
 "cells": [
  {
   "cell_type": "markdown",
   "id": "dc4a0a40-8b47-4681-bb18-f475c239f1ff",
   "metadata": {},
   "source": [
    "Already exists:\n",
    "- Boligrafica Twitter Tweepy\n",
    "- Greenhouse Summon\n",
    "- NOAA Data update GHD\n",
    "\n",
    "Want to create:\n",
    "- GFW - Datos Bolivia Deforestacion / Incendios\n",
    "- Other twitter bots!\n",
    "  - Mocking spongebob"
   ]
  },
  {
   "cell_type": "markdown",
   "id": "c2ef13b2-37fc-4b5e-8d6f-2f0a3d0982d7",
   "metadata": {},
   "source": [
    "Types of conditions:\n",
    "- Runs on a schedule \n",
    "  - once every week (like boligrafica)\n",
    "  - 4 times a day (like greenhouse summon)\n",
    "- Runs if it has detected updated data (if new data, run)\n",
    "  - Like NOAA data in GHD"
   ]
  },
  {
   "cell_type": "code",
   "execution_count": 189,
   "id": "59455dd5-248c-4a30-83f0-997ca169ee5b",
   "metadata": {
    "tags": []
   },
   "outputs": [
    {
     "data": {
      "text/plain": [
       "True"
      ]
     },
     "execution_count": 189,
     "metadata": {},
     "output_type": "execute_result"
    }
   ],
   "source": [
    "import os\n",
    "import sys\n",
    "import pandas as pd\n",
    "from datetime import datetime\n",
    "from IPython import get_ipython\n",
    "\n",
    "# environmental secrets when working locally\n",
    "from dotenv import load_dotenv\n",
    "load_dotenv()"
   ]
  },
  {
   "cell_type": "code",
   "execution_count": 190,
   "id": "b8cb3fe9-f703-43aa-922b-eda17807afff",
   "metadata": {},
   "outputs": [
    {
     "data": {
      "text/plain": [
       "'/home/daqub/Documents/GITHUB-UPDATE/update'"
      ]
     },
     "execution_count": 190,
     "metadata": {},
     "output_type": "execute_result"
    }
   ],
   "source": [
    "os.getcwd()"
   ]
  },
  {
   "cell_type": "code",
   "execution_count": 191,
   "id": "74f38992-9029-4e5a-9169-e1b905029a83",
   "metadata": {},
   "outputs": [
    {
     "ename": "AttributeError",
     "evalue": "type object 'datetime.datetime' has no attribute 'datetime'",
     "output_type": "error",
     "traceback": [
      "\u001b[0;31m---------------------------------------------------------------------------\u001b[0m",
      "\u001b[0;31mAttributeError\u001b[0m                            Traceback (most recent call last)",
      "Input \u001b[0;32mIn [191]\u001b[0m, in \u001b[0;36m<cell line: 1>\u001b[0;34m()\u001b[0m\n\u001b[0;32m----> 1\u001b[0m \u001b[43mdatetime\u001b[49m\u001b[38;5;241;43m.\u001b[39;49m\u001b[43mdatetime\u001b[49m(\u001b[38;5;241m2022\u001b[39m, \u001b[38;5;241m7\u001b[39m, \u001b[38;5;241m7\u001b[39m, \u001b[38;5;241m21\u001b[39m, \u001b[38;5;241m39\u001b[39m, \u001b[38;5;241m53\u001b[39m, \u001b[38;5;241m887743\u001b[39m)\n",
      "\u001b[0;31mAttributeError\u001b[0m: type object 'datetime.datetime' has no attribute 'datetime'"
     ]
    }
   ],
   "source": [
    "datetime.datetime(2022, 7, 7, 21, 39, 53, 887743)"
   ]
  },
  {
   "cell_type": "code",
   "execution_count": 128,
   "id": "b912553f-6044-4b25-94ea-a327036a141e",
   "metadata": {},
   "outputs": [
    {
     "data": {
      "text/plain": [
       "0.42403457703703706"
      ]
     },
     "execution_count": 128,
     "metadata": {},
     "output_type": "execute_result"
    }
   ],
   "source": [
    "f = datetime.datetime.now() - datetime.datetime(2022, 7, 7, 11, 39, 53, 887743)\n",
    "f.total_seconds() / 60 /60 /24"
   ]
  },
  {
   "cell_type": "code",
   "execution_count": 184,
   "id": "27020f07-dc3a-4ccf-a221-4f3e5416fd54",
   "metadata": {},
   "outputs": [
    {
     "data": {
      "text/html": [
       "<div>\n",
       "<style scoped>\n",
       "    .dataframe tbody tr th:only-of-type {\n",
       "        vertical-align: middle;\n",
       "    }\n",
       "\n",
       "    .dataframe tbody tr th {\n",
       "        vertical-align: top;\n",
       "    }\n",
       "\n",
       "    .dataframe thead th {\n",
       "        text-align: right;\n",
       "    }\n",
       "</style>\n",
       "<table border=\"1\" class=\"dataframe\">\n",
       "  <thead>\n",
       "    <tr style=\"text-align: right;\">\n",
       "      <th></th>\n",
       "      <th></th>\n",
       "      <th></th>\n",
       "      <th></th>\n",
       "      <th></th>\n",
       "      <th></th>\n",
       "      <th>notebook_path</th>\n",
       "      <th>last_executed</th>\n",
       "      <th>execution_status</th>\n",
       "    </tr>\n",
       "  </thead>\n",
       "  <tbody>\n",
       "    <tr>\n",
       "      <th>Greenhouse_Data/Twitter/GreenhouseSummon.ipynb</th>\n",
       "      <th>datetime.datetime(2022</th>\n",
       "      <th>7</th>\n",
       "      <th>7</th>\n",
       "      <th>22</th>\n",
       "      <th>14</th>\n",
       "      <td>41</td>\n",
       "      <td>612275)</td>\n",
       "      <td>SUCCESS!</td>\n",
       "    </tr>\n",
       "  </tbody>\n",
       "</table>\n",
       "</div>"
      ],
      "text/plain": [
       "                                                                                 notebook_path  \\\n",
       "Greenhouse_Data/Twitter/GreenhouseSummon.ipynb datetime.datetime(2022 7 7 22 14             41   \n",
       "\n",
       "                                                                                last_executed  \\\n",
       "Greenhouse_Data/Twitter/GreenhouseSummon.ipynb datetime.datetime(2022 7 7 22 14       612275)   \n",
       "\n",
       "                                                                                execution_status  \n",
       "Greenhouse_Data/Twitter/GreenhouseSummon.ipynb datetime.datetime(2022 7 7 22 14         SUCCESS!  "
      ]
     },
     "execution_count": 184,
     "metadata": {},
     "output_type": "execute_result"
    }
   ],
   "source": [
    "log = pd.read_csv(\"log.csv\")\n",
    "log"
   ]
  },
  {
   "cell_type": "code",
   "execution_count": 377,
   "id": "eb06dfbc-d234-4190-a4bb-dc6c81394684",
   "metadata": {},
   "outputs": [
    {
     "name": "stdout",
     "output_type": "stream",
     "text": [
      "previous log found: 2022-07-07 22:36\n",
      "difference in execution is: 0.004 days\n",
      "needed difference to execute: 0.25 days\n",
      "Execute is:  False\n"
     ]
    }
   ],
   "source": [
    "def SCRIPT_RUNNER(notebook_path, new_data = False, schedule_in_days = None):\n",
    "    \n",
    "    if schedule_in_days == None:\n",
    "        EXECUTE = True\n",
    "        \n",
    "    else:\n",
    "        # check log\n",
    "        log = pd.read_csv(\"log.csv\", index_col=0)\n",
    "        try:\n",
    "            last_executed = log.loc[notebook_path][\"last_executed\"]\n",
    "            print(f\"previous log found: {last_executed}\")\n",
    "        except:\n",
    "            print(\"first time - creating dummy entry (year 2000)\")\n",
    "            # display(log)\n",
    "            log.loc[notebook_path] = [datetime(2000, 7, 7, 21, 39), \"\"]\n",
    "            \n",
    "            # try again\n",
    "            last_executed = log.loc[notebook_path][\"last_executed\"]\n",
    "            \n",
    "        # get time difference in days\n",
    "        now = datetime.now()\n",
    "        last_executed = datetime.strptime(last_executed, '%Y-%m-%d %H:%M')\n",
    "        diff_seconds = now - last_executed\n",
    "        diff_days = diff_seconds.total_seconds() / 60 /60 /24\n",
    "        print(f\"difference in execution is: {round(diff_days,4)} days\")\n",
    "        print(f\"needed difference to execute: {round(schedule_in_days,4)} days\")\n",
    "        \n",
    "        # FINAL CHECK\n",
    "        if diff_days > schedule_in_days:\n",
    "            EXECUTE = True\n",
    "        else:\n",
    "            EXECUTE = False\n",
    "            \n",
    "\n",
    "        \n",
    "    print(\"Execute is: \", str(EXECUTE))\n",
    "    if EXECUTE == True:\n",
    "\n",
    "        \n",
    "        # go to folder to run script locally\n",
    "        folder_path = notebook_path.split(\"/\")[:-1]\n",
    "        os.chdir(\"/\".join(folder_path))\n",
    "\n",
    "        try:\n",
    "            get_ipython().run_line_magic(\"run\", notebook_path.split(\"/\")[-1])\n",
    "            status = \"SUCCESS!\"\n",
    "            print(status)\n",
    "        except:\n",
    "            status = \"FAILURE.\"\n",
    "            print(status)\n",
    "\n",
    "        # go back to root repository\n",
    "        os.chdir(\"\".join([\"../\"] * len(folder_path)))   \n",
    "        \n",
    "        # log\n",
    "        log.loc[notebook_path] = [datetime.now().strftime(\"%Y-%m-%d %H:%M\"), status]\n",
    "        log.to_csv(\"log.csv\")\n",
    "        print(\"New log entry successful\")\n",
    "        \n",
    "        return\n",
    "\n",
    "####\n",
    "\n",
    "SCRIPT_RUNNER(notebook_path = \"Greenhouse_Data/Twitter/GreenhouseSummon.ipynb\", schedule_in_days= 6/24)    "
   ]
  },
  {
   "cell_type": "code",
   "execution_count": null,
   "id": "b82158ec-ab9c-4135-b363-7c17cb8ce83f",
   "metadata": {},
   "outputs": [],
   "source": []
  },
  {
   "cell_type": "code",
   "execution_count": null,
   "id": "424f0e99-bccb-4be0-9359-6013147be42d",
   "metadata": {},
   "outputs": [],
   "source": []
  },
  {
   "cell_type": "code",
   "execution_count": null,
   "id": "eedb8489-41a1-45c4-af9b-c72fc6d86a65",
   "metadata": {},
   "outputs": [],
   "source": []
  },
  {
   "cell_type": "code",
   "execution_count": null,
   "id": "2eeddff8-5b2b-424a-8475-2c323eee9614",
   "metadata": {},
   "outputs": [],
   "source": [
    "# get_ipython().run_line_magic(\"run\", \"Greenhouse_Data/Twitter/GreenhouseSummon.ipynb\")"
   ]
  },
  {
   "cell_type": "code",
   "execution_count": null,
   "id": "09539198-436e-4eb1-88e9-5bcfbf58cffd",
   "metadata": {},
   "outputs": [],
   "source": [
    "os.chdir(\"Greenhouse_Data/Twitter/\")\n",
    "try:\n",
    "    %run GreenhouseSummon.ipynb\n",
    "    os.chdir(\"../..\")\n",
    "except:\n",
    "    pass\n",
    "    os.chdir(\"../..\")"
   ]
  },
  {
   "cell_type": "code",
   "execution_count": null,
   "id": "4ca09de0-b176-4cdb-855d-bba8bab9fa65",
   "metadata": {
    "tags": []
   },
   "outputs": [],
   "source": [
    "# NOW = datetime.now()\n",
    "# NOW"
   ]
  },
  {
   "cell_type": "code",
   "execution_count": null,
   "id": "3d9f8c2d-8606-450a-9ff2-780e2c030237",
   "metadata": {},
   "outputs": [],
   "source": [
    "print(\"success yeah!\")"
   ]
  }
 ],
 "metadata": {
  "kernelspec": {
   "display_name": "Python 3 (ipykernel)",
   "language": "python",
   "name": "python3"
  },
  "language_info": {
   "codemirror_mode": {
    "name": "ipython",
    "version": 3
   },
   "file_extension": ".py",
   "mimetype": "text/x-python",
   "name": "python",
   "nbconvert_exporter": "python",
   "pygments_lexer": "ipython3",
   "version": "3.9.12"
  }
 },
 "nbformat": 4,
 "nbformat_minor": 5
}
