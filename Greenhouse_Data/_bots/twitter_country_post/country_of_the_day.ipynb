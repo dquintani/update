{
 "cells": [
  {
   "cell_type": "markdown",
   "id": "2733b807-a40a-47c5-bc0c-b93d54ef7e75",
   "metadata": {},
   "source": [
    "# Import libraries"
   ]
  },
  {
   "cell_type": "code",
   "execution_count": 1,
   "id": "e069b92f-79e5-4e6b-9adb-c12b361bab6f",
   "metadata": {
    "tags": []
   },
   "outputs": [],
   "source": [
    "import os\n",
    "import pandas as pd\n",
    "import tweepy\n",
    "import json\n",
    "\n",
    "import urllib.request\n",
    "import random \n",
    "import numpy as np\n",
    "import datetime\n",
    "from datetime import date\n",
    "import warnings\n",
    "import requests\n",
    "import ipynb \n",
    "\n",
    "# load json with country names and codes\n",
    "with urllib.request.urlopen(\"https://raw.githubusercontent.com/dquintani/GreenhouseData/master/supplemental/STANDARD_COUNTRY_DICT_ISO3.json\") as url:\n",
    "    STANDARD_COUNTRY_DICT = json.loads(url.read().decode())\n",
    "    \n",
    "pd.set_option('display.max_colwidth', None)"
   ]
  },
  {
   "cell_type": "code",
   "execution_count": 2,
   "id": "e1557ae5-1b7f-4aa0-96f5-2d25d594f596",
   "metadata": {},
   "outputs": [
    {
     "name": "stdout",
     "output_type": "stream",
     "text": [
      "envs loaded\n"
     ]
    }
   ],
   "source": [
    "# environmental secrets when working locally\n",
    "from dotenv import load_dotenv\n",
    "try:\n",
    "    load_dotenv()\n",
    "    # load_dotenv(\"../../../../\")\n",
    "    print(\"envs loaded\")\n",
    "except:\n",
    "    print(\"envs failed to load\")\n",
    "    pass"
   ]
  },
  {
   "cell_type": "markdown",
   "id": "fcdddcf8-5443-4071-98bf-a27be04d1f9d",
   "metadata": {},
   "source": [
    "# Set up tweepy"
   ]
  },
  {
   "cell_type": "code",
   "execution_count": 3,
   "id": "183fa4b4-d0fe-470e-b37b-411f0a659a96",
   "metadata": {
    "tags": []
   },
   "outputs": [
    {
     "data": {
      "text/plain": [
       "<tweepy.api.API at 0x7f95510ddf40>"
      ]
     },
     "execution_count": 3,
     "metadata": {},
     "output_type": "execute_result"
    }
   ],
   "source": [
    "#USING GITHUB ENVS\n",
    "\n",
    "#test\n",
    "GHD_TWITTER_APIKEY= os.environ[\"GHD_TWITTER_APIKEY\"]\n",
    "GHD_TWITTER_APIKEYSECRET = os.environ[\"GHD_TWITTER_APIKEYSECRET\"]\n",
    "\n",
    "GHD_TWITTER_BEARERTOKEN = os.environ[\"GHD_TWITTER_BEARERTOKEN\"]\n",
    "GHD_TWITTER_ACCESSTOKEN = os.environ[\"GHD_TWITTER_ACCESSTOKEN\"]\n",
    "GHD_TWITTER_ACCESSTOKENSECRET = os.environ[\"GHD_TWITTER_ACCESSTOKENSECRET\"]\n",
    "GHD_TWITTER_CLIENTID = os.environ[\"GHD_TWITTER_CLIENTID\"]\n",
    "GHD_TWITTER_CLIENTSECRET = os.environ[\"GHD_TWITTER_CLIENTSECRET\"]\n",
    "\n",
    "# Authenticate to Twitter\n",
    "auth = tweepy.OAuthHandler(GHD_TWITTER_APIKEY, GHD_TWITTER_APIKEYSECRET)\n",
    "auth.set_access_token(GHD_TWITTER_ACCESSTOKEN, GHD_TWITTER_ACCESSTOKENSECRET)\n",
    "\n",
    "# Create API object \n",
    "api = tweepy.API(auth)\n",
    "api"
   ]
  },
  {
   "cell_type": "markdown",
   "id": "860f6fce",
   "metadata": {},
   "source": [
    "## reply message generator\n",
    "also found in greenhouse summon"
   ]
  },
  {
   "cell_type": "code",
   "execution_count": 4,
   "id": "cc97cc76-0714-47c3-97e9-2a7f353e62f1",
   "metadata": {
    "tags": []
   },
   "outputs": [],
   "source": [
    "def TWEET_IMAGE_SAVER_AND_SELECTOR(code, max_count = 4, is_global=False):\n",
    "    \n",
    "    # Setup requests to find images in repository\n",
    "    user = \"dquintani\"\n",
    "    repo = \"GreenhouseData\"\n",
    "    url = f\"https://api.github.com/repos/{user}/{repo}/git/trees/master?recursive=1\"\n",
    "    r = requests.get(url)\n",
    "    res = r.json()\n",
    "    list_dir = []\n",
    "    for file in res[\"tree\"]:\n",
    "        list_dir.append(file[\"path\"])    \n",
    "    \n",
    "    # save randomly\n",
    "    if is_global==True:\n",
    "        path_dir = \"global/\"\n",
    "        list_figs = [i for i in list_dir if i.startswith(path_dir)]\n",
    "        try:\n",
    "            selected_figs_paths = random.sample(list_figs, max_count)\n",
    "        except:\n",
    "            selected_figs_paths = []\n",
    "    \n",
    "    elif is_global == False: #ie is a country code\n",
    "        path_dir = f\"country_data/{code}_{STANDARD_COUNTRY_DICT[code]}/figures/\"\n",
    "        list_figs = [i for i in list_dir if i.startswith(path_dir)]\n",
    "        \n",
    "        selected_figs_paths = []\n",
    "        # selected_figs_paths = random.sample(list_figs, max_count-1)\n",
    "        selected_figs_paths.append(path_dir + f\"{code}_relative_totals.png\")\n",
    "        selected_figs_paths.append(path_dir + f\"{code}_GCP_Country_Highlight.png\")\n",
    "        selected_figs_paths.append(path_dir + f\"{code}_GCP_1.png\")\n",
    "        selected_figs_paths.append(path_dir + f\"{code}_Minx_top20_subsectors.png\")\n",
    "        display(selected_figs_paths)\n",
    "        \n",
    "\n",
    "    #DOWNLOAD AND SAVE THEM\n",
    "    for i,j in enumerate(selected_figs_paths):\n",
    "        image_url = f\"https://dquintani.github.io/GreenhouseData/{j}\"\n",
    "        img_data = requests.get(image_url).content\n",
    "        with open(f'image{i+1}.jpg', 'wb') as handler:\n",
    "            handler.write(img_data)\n",
    "        \n",
    "    \n",
    "    media_ids = []\n",
    "    for i in range(max_count):\n",
    "        try:\n",
    "            res = api.media_upload(f\"image{i+1}.jpg\")\n",
    "            media_ids.append(res.media_id)\n",
    "        except:\n",
    "            pass\n",
    "    print(f\" > saved and selected {len(media_ids)} images\")\n",
    "    return media_ids\n",
    "    \n",
    "# ---------------------------------------------------------------\n",
    "\n",
    "# TWEET_IMAGE_SAVER_AND_SELECTOR(\"BES\", 4)"
   ]
  },
  {
   "cell_type": "markdown",
   "id": "72df001d-95c5-44b0-ab73-1c16fb97a7f4",
   "metadata": {},
   "source": [
    "# Tweet profile of the day\n",
    "Currently, this code gets the latest tweet in the timeline, asks itself if a certain PERIOD of time has passed, and if enough time has passed, chooses a random country to profile."
   ]
  },
  {
   "cell_type": "code",
   "execution_count": 5,
   "id": "167cc94e",
   "metadata": {},
   "outputs": [
    {
     "name": "stdout",
     "output_type": "stream",
     "text": [
      "random country profile: Gambia\n"
     ]
    },
    {
     "data": {
      "text/plain": [
       "['country_data/GMB_Gambia/figures/GMB_relative_totals.png',\n",
       " 'country_data/GMB_Gambia/figures/GMB_GCP_Country_Highlight.png',\n",
       " 'country_data/GMB_Gambia/figures/GMB_GCP_1.png',\n",
       " 'country_data/GMB_Gambia/figures/GMB_Minx_top20_subsectors.png']"
      ]
     },
     "metadata": {},
     "output_type": "display_data"
    },
    {
     "name": "stdout",
     "output_type": "stream",
     "text": [
      " > saved and selected 4 images\n",
      "Greenhouse Data's country profile of the day: Gambia\n",
      "\n",
      "More greenhouse gas emission data and figures of this country: https://dquintani.github.io/GreenhouseData/country_data/GMB_Gambia/\n",
      "country profile tweet SUCCESS!\n"
     ]
    }
   ],
   "source": [
    "def TWEET_COUNTRY_PROFILE_OF_THE_DAY():\n",
    "    \n",
    "\n",
    "    # get random country\n",
    "    code = random.choice(list(STANDARD_COUNTRY_DICT.keys()))\n",
    "    print(\"random country profile:\", STANDARD_COUNTRY_DICT[code])\n",
    "\n",
    "    # save images\n",
    "    media_ids = TWEET_IMAGE_SAVER_AND_SELECTOR(code, 4)\n",
    "    \n",
    "    # write message\n",
    "    MESSAGE = f\"Greenhouse Data's country profile of the day: {STANDARD_COUNTRY_DICT[code]}\\n\\nMore greenhouse gas emission data and figures of this country: https://dquintani.github.io/GreenhouseData/country_data/{code}_{STANDARD_COUNTRY_DICT[code]}/\"\n",
    "    print(MESSAGE)\n",
    "    \n",
    "    # RUN\n",
    "    api.update_status(status = MESSAGE, \n",
    "                    media_ids=media_ids)\n",
    "\n",
    "    # print when success\n",
    "    print(\"country profile tweet SUCCESS!\")\n",
    "\n",
    "\n",
    "    \n",
    "\n",
    "TWEET_COUNTRY_PROFILE_OF_THE_DAY()"
   ]
  }
 ],
 "metadata": {
  "kernelspec": {
   "display_name": "Python 3.9.12 ('base')",
   "language": "python",
   "name": "python3"
  },
  "language_info": {
   "codemirror_mode": {
    "name": "ipython",
    "version": 3
   },
   "file_extension": ".py",
   "mimetype": "text/x-python",
   "name": "python",
   "nbconvert_exporter": "python",
   "pygments_lexer": "ipython3",
   "version": "3.9.12"
  },
  "vscode": {
   "interpreter": {
    "hash": "3879f593f72178d4cdaa5d992027cc0eafe2075e6c7e6c2da0f0dd376bbd7072"
   }
  },
  "widgets": {
   "application/vnd.jupyter.widget-state+json": {
    "state": {},
    "version_major": 2,
    "version_minor": 0
   }
  }
 },
 "nbformat": 4,
 "nbformat_minor": 5
}
