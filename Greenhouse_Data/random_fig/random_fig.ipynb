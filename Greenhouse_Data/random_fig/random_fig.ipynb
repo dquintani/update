{
 "cells": [
  {
   "cell_type": "code",
   "execution_count": 1,
   "id": "f3a61957-893a-4b9f-84b5-07488913219f",
   "metadata": {
    "tags": []
   },
   "outputs": [],
   "source": [
    "import os\n",
    "import glob\n",
    "import shutil\n",
    "import random\n",
    "import re\n",
    "import requests\n",
    "from bs4 import BeautifulSoup"
   ]
  },
  {
   "cell_type": "markdown",
   "id": "2ee7dc96-0d66-47c8-a10a-170c3ede7941",
   "metadata": {},
   "source": [
    "# Random Fig"
   ]
  },
  {
   "cell_type": "code",
   "execution_count": 2,
   "id": "f6633995-2af9-4c7b-abe0-47949b93413d",
   "metadata": {},
   "outputs": [
    {
     "data": {
      "text/plain": [
       "'ASM_American Samoa'"
      ]
     },
     "execution_count": 2,
     "metadata": {},
     "output_type": "execute_result"
    }
   ],
   "source": [
    "# URL on the Github where the csv files are stored\n",
    "github_url = 'https://github.com/dquintani/GreenhouseData/tree/master/country_data'  # change USERNAME, REPOSITORY and FOLDER with actual name\n",
    "\n",
    "result = requests.get(github_url)\n",
    "\n",
    "soup = BeautifulSoup(result.text, 'html.parser')\n",
    "csvfiles = soup.find_all(title=re.compile(\"_\"))\n",
    "\n",
    "filename = []\n",
    "for i in csvfiles:\n",
    "        filename.append(i.extract().get_text())\n",
    "    \n",
    "\n",
    "# print(filename)\n",
    "\n",
    "random_country_dir = random.choice(filename)\n",
    "random_country_dir"
   ]
  },
  {
   "cell_type": "code",
   "execution_count": 3,
   "id": "c104dc81-127d-4974-a49d-2be9ea5620ac",
   "metadata": {
    "tags": []
   },
   "outputs": [
    {
     "data": {
      "text/plain": [
       "'ASM_CO2_totals.png'"
      ]
     },
     "execution_count": 3,
     "metadata": {},
     "output_type": "execute_result"
    }
   ],
   "source": [
    "# URL on the Github where the csv files are stored\n",
    "github_url = f'https://github.com/dquintani/GreenhouseData/tree/master/country_data/{random_country_dir}/figures'\n",
    "\n",
    "result = requests.get(github_url)\n",
    "\n",
    "soup = BeautifulSoup(result.text, 'html.parser')\n",
    "csvfiles = soup.find_all(title=re.compile(\"_\"))\n",
    "\n",
    "filename = []\n",
    "for i in csvfiles:\n",
    "        filename.append(i.extract().get_text())\n",
    "\n",
    "random_fig = random.choice(filename)\n",
    "random_fig"
   ]
  },
  {
   "cell_type": "code",
   "execution_count": 4,
   "id": "5e285f92-963d-41a3-be98-9d59cca56a3d",
   "metadata": {
    "tags": []
   },
   "outputs": [
    {
     "data": {
      "text/plain": [
       "94628"
      ]
     },
     "execution_count": 4,
     "metadata": {},
     "output_type": "execute_result"
    }
   ],
   "source": [
    "# download figure\n",
    "URL = f\"https://raw.githubusercontent.com/dquintani/GreenhouseData/master/country_data/{random_country_dir}/figures/{random_fig}\"\n",
    "response = requests.get(URL)\n",
    "open(\"random_daily_fig.png\", \"wb\").write(response.content)"
   ]
  },
  {
   "cell_type": "code",
   "execution_count": 5,
   "id": "e4619349-f0b8-4837-9e85-db90aa43d83c",
   "metadata": {
    "tags": []
   },
   "outputs": [
    {
     "name": "stdout",
     "output_type": "stream",
     "text": [
      "random_fig generated\n"
     ]
    }
   ],
   "source": [
    "print(\"random_fig generated\")"
   ]
  }
 ],
 "metadata": {
  "kernelspec": {
   "display_name": "Python 3.9.13 ('base')",
   "language": "python",
   "name": "python3"
  },
  "language_info": {
   "codemirror_mode": {
    "name": "ipython",
    "version": 3
   },
   "file_extension": ".py",
   "mimetype": "text/x-python",
   "name": "python",
   "nbconvert_exporter": "python",
   "pygments_lexer": "ipython3",
   "version": "3.9.13"
  },
  "vscode": {
   "interpreter": {
    "hash": "ad2bdc8ecc057115af97d19610ffacc2b4e99fae6737bb82f5d7fb13d2f2c186"
   }
  },
  "widgets": {
   "application/vnd.jupyter.widget-state+json": {
    "state": {},
    "version_major": 2,
    "version_minor": 0
   }
  }
 },
 "nbformat": 4,
 "nbformat_minor": 5
}
